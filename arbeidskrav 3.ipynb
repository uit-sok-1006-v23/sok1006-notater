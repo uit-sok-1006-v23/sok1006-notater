{
 "cells": [
  {
   "cell_type": "markdown",
   "id": "154aef80-ecdb-4f3b-800c-360535d5ae10",
   "metadata": {},
   "source": [
    "# SOK-1006 V23\n",
    "\n",
    "## Arbeidskrav 3\n",
    "\n",
    "### Frist fredag 10. februar kl 18.00 i Canvas\n",
    "\n",
    "**Lever inn lenken til ditt repo på GitHub hvor løsningen ligger**. Individuell innlevering.\n",
    "\n",
    "Se Jupyter notatblokk \"Forsmak mappe 1\" for et forslag til fremgangsmåte her, og kap 9 i boka. Samt forelesning 08.02.\n",
    "\n",
    "Vi ser på markedet for oppdrettslaks på s. 101-104 i boka, og som vi har analysert i forelesning 5.      \n",
    "\n",
    "Med en stykkavgift på $t$ kr per enhet pålagt selgere kan vi skrive etterspørsel og tilbud i (1) og (2):   \n",
    "\n",
    "\n",
    "\\begin{equation}\n",
    "   x^{D}= 500 -3.2p\\tag{1}\n",
    "\\end{equation}\n",
    "\n",
    "og tilbud:\n",
    "\n",
    "\n",
    "\\begin{equation}\n",
    "   x^{S}= -100 + 4.3(p-t)\\tag{2}\n",
    "\\end{equation}\n",
    "\n",
    "1. Finn likevektspris og -kvantum for alle verdier av $t$.        \n",
    "2. Finn uttrykk for konsument- og produsentoverskudd, samt avgiftproveny.           \n",
    "2. Tegn likevekten for $t=0$ og fargelegg KO og PO.     \n",
    "2. Tegn inn likevekten for $t=4$, og fargelegg avgiftproveny.      \n",
    "4. Bruk de uttrykkene som du har laget for å fylle ut følgende tabell. NB det er mening at du skal fylle ut tabellen med uttrykk som du har regnet i koden (ikke skriv inn tall manuelt - se Forsmak mappe 1.ipynb)."
   ]
  },
  {
   "cell_type": "markdown",
   "id": "084dccba-b3e9-42fb-8f86-edaf6f019056",
   "metadata": {},
   "source": [
    "|                     | Før avgift            |Etter avgift    | Endring (etter avgift-før avgift)|\n",
    "| :-------------------| :----------------------------------------|:-------------|:---------------|\n",
    "| Konsumentpris   |     | |  |\n",
    "|Produsentpris  | |   |  |\n",
    "|Kvantum  |  |   |    |\n",
    "| Konsumentoverskudd: |  | |     |\n",
    "| Produsentoverskudd: | |  |   |\n",
    "| KO + PO:    |    | |  |\n",
    "|Skatteproveny| 0  | | |\n",
    "| Dødvektstap  |0   |   ||"
   ]
  }
 ],
 "metadata": {
  "kernelspec": {
   "display_name": "Python 3 (ipykernel)",
   "language": "python",
   "name": "python3"
  },
  "language_info": {
   "codemirror_mode": {
    "name": "ipython",
    "version": 3
   },
   "file_extension": ".py",
   "mimetype": "text/x-python",
   "name": "python",
   "nbconvert_exporter": "python",
   "pygments_lexer": "ipython3",
   "version": "3.9.15"
  }
 },
 "nbformat": 4,
 "nbformat_minor": 5
}
